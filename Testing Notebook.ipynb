{
 "cells": [
  {
   "cell_type": "code",
   "execution_count": null,
   "id": "56e698d0",
   "metadata": {},
   "outputs": [],
   "source": [
    "import yfinance as yf\n",
    "import pandas as pd \n",
    "import numpy as np\n",
    "import matplotlib.pyplot as plt \n",
    "from datetime import datetime as dt\n",
    "from datetime import timedelta as td"
   ]
  },
  {
   "attachments": {},
   "cell_type": "markdown",
   "id": "ad757f8f",
   "metadata": {},
   "source": [
    "## Testing the Apple Object"
   ]
  },
  {
   "attachments": {},
   "cell_type": "markdown",
   "id": "1d2c448c",
   "metadata": {},
   "source": [
    "Initialization"
   ]
  },
  {
   "cell_type": "code",
   "execution_count": null,
   "id": "d4d0fd97",
   "metadata": {},
   "outputs": [],
   "source": [
    "Apple = yf.Ticker(\"AAPL\") # Create the apple ticker object\n",
    "apple_history_df = Apple.history(period=\"max\") # Call the history function to get the API data loaded locally"
   ]
  },
  {
   "attachments": {},
   "cell_type": "markdown",
   "id": "188c2e84",
   "metadata": {},
   "source": [
    "Explore the Object / Data"
   ]
  },
  {
   "cell_type": "code",
   "execution_count": null,
   "id": "570ff238",
   "metadata": {},
   "outputs": [],
   "source": [
    "# Explore Historical Data (in the dataframe we saved earlier)\n",
    "df = apple_history_df # Alias the long name to just be df\n",
    "\n",
    "# X index (X conditions)\n",
    "condition_1 = df.Open <10\n",
    "condition_2 = df.Close>10\n",
    "# Y index (Y condition is just that the column name is one of these)\n",
    "desired_columns = [\"Open\", \"Close\"]\n",
    "df.loc[condition_1 & condition_2, desired_columns]"
   ]
  },
  {
   "cell_type": "code",
   "execution_count": null,
   "id": "0b94884c",
   "metadata": {},
   "outputs": [],
   "source": [
    "Apple.history_metadata.keys() #Look at what metadata is available"
   ]
  },
  {
   "cell_type": "code",
   "execution_count": null,
   "id": "6d6f301f",
   "metadata": {},
   "outputs": [],
   "source": [
    "# Explore the Balance Sheet (Annual; last 4 years)\n",
    "df = Apple.balance_sheet\n",
    "df.loc[[\"Current Assets\", \"Current Liabilities\"]]\n",
    "df.loc[\"Current Assets\"] / df.loc[\"Current Liabilities\"]"
   ]
  },
  {
   "cell_type": "code",
   "execution_count": null,
   "id": "f57bcce1",
   "metadata": {},
   "outputs": [],
   "source": [
    "# Balance sheet (last 4 quarters)\n",
    "Apple.quarterly_balance_sheet"
   ]
  },
  {
   "attachments": {},
   "cell_type": "markdown",
   "id": "69b60943",
   "metadata": {},
   "source": [
    "## Testing Multiple Tickers"
   ]
  },
  {
   "attachments": {},
   "cell_type": "markdown",
   "id": "3c7f5db0",
   "metadata": {},
   "source": [
    "Initialization"
   ]
  },
  {
   "cell_type": "code",
   "execution_count": null,
   "id": "9fa579ab",
   "metadata": {},
   "outputs": [],
   "source": [
    "pip install yfinance"
   ]
  },
  {
   "cell_type": "code",
   "execution_count": null,
   "id": "422cd6ed",
   "metadata": {},
   "outputs": [],
   "source": [
    "import yfinance as yf"
   ]
  },
  {
   "cell_type": "code",
   "execution_count": null,
   "id": "b93fca29",
   "metadata": {},
   "outputs": [],
   "source": [
    "ticker_symbols = ['SPY','AAPL','KO', 'TSLA', 'GOOG']\n",
    "tickers = yf.Tickers(ticker_symbols)"
   ]
  },
  {
   "cell_type": "code",
   "execution_count": null,
   "id": "c8ffbeaa",
   "metadata": {},
   "outputs": [],
   "source": [
    "# Note that this creates a dictionary (tickers.tickers)\n",
    "print(\"tickers.tickers is a dict where the keys are strings and the values are objects like Apple was\")\n",
    "for ticker_symbol, ticker in tickers.tickers.items(): # dict.items() gives you key,value pairs\n",
    "    print(ticker_symbol, type(ticker_symbol))\n",
    "    print(type(ticker))\n",
    "    print()"
   ]
  },
  {
   "attachments": {},
   "cell_type": "markdown",
   "id": "ec509173",
   "metadata": {},
   "source": [
    "## Manipulating Multiple Tickers"
   ]
  },
  {
   "cell_type": "code",
   "execution_count": null,
   "id": "70374819",
   "metadata": {},
   "outputs": [],
   "source": [
    "ticker_symbols = ['SPY','AAPL','KO', 'TSLA', 'GOOG']\n",
    "tickers = yf.Tickers(ticker_symbols)\n",
    "\n",
    "# Example Function\n",
    "def get_current_ratio(ticker, period=\"max\"):\n",
    "    hist = ticker.history(period=period) # We don't use hist here, but we must call ticker.history at some point to access the metadata\n",
    "    symbol = ticker.history_metadata['symbol']\n",
    "    bs_df = ticker.quarterly_balance_sheet\n",
    "    try:\n",
    "        current_ratio = (bs_df.loc[\"Current Assets\"] / bs_df.loc[\"Current Liabilities\"])\n",
    "        print(f\"{symbol} - Found Current Ratio\")\n",
    "        return current_ratio\n",
    "    except:\n",
    "        print(f\"{symbol} - No Current Ratio\")\n",
    "        return None\n",
    "        \n",
    "# Output Dataframe that will house all of our data\n",
    "current_ratios = pd.DataFrame()\n",
    "\n",
    "for ticker_symbol, this_ticker in tickers.tickers.items():\n",
    "    this_current_ratio = get_current_ratio(this_ticker)\n",
    "    current_ratios[ticker_symbol] = this_current_ratio\n",
    "\n",
    "current_ratios"
   ]
  },
  {
   "cell_type": "code",
   "execution_count": null,
   "id": "b52fdb74",
   "metadata": {},
   "outputs": [],
   "source": [
    "MSFT = yf.Ticker('MSFT')\n",
    "MSFT.history(period='max')\n"
   ]
  },
  {
   "cell_type": "code",
   "execution_count": null,
   "id": "52e07cfd",
   "metadata": {},
   "outputs": [],
   "source": [
    "print(MSFT.recommendations_summary)"
   ]
  },
  {
   "cell_type": "code",
   "execution_count": null,
   "id": "3f43eda7",
   "metadata": {},
   "outputs": [],
   "source": [
    "print(MSFT.cash_flow)\n"
   ]
  },
  {
   "cell_type": "code",
   "execution_count": null,
   "id": "d157e6c6",
   "metadata": {},
   "outputs": [],
   "source": [
    "ticker_symbols = ['SPY','AAPL','KO', 'TSLA', 'GOOG']\n",
    "tickers = yf.Tickers(ticker_symbols)\n",
    "\n",
    "def get_roe(ticker, period=\"max\"):\n",
    "    hist = ticker.history(period=period) # We don't use hist here, but we must call ticker.history at some point to access the metadata\n",
    "    symbol = ticker.history_metadata['symbol']\n",
    "    is_df = ticker.quarterly_income_stmt\n",
    "    try:\n",
    "        net_income = is_df.loc[\"Net Income\"]\n",
    "        avg_equity = (is_df.loc[\"Total Shareholders Equity\"].rolling(2).mean() / 2)\n",
    "        roe = (net_income / avg_equity)\n",
    "        print(f\"{symbol} - Found ROE\")\n",
    "        return roe\n",
    "    except:\n",
    "        print(f\"{symbol} - No ROE\")\n",
    "        return None\n",
    "\n",
    "# Output Dataframe that will house all of our data\n",
    "roe = pd.DataFrame()\n",
    "\n",
    "for ticker_symbol, this_ticker in tickers.tickers.items():\n",
    "    this_roe = get_roe(this_ticker)\n",
    "    roe[ticker_symbol] = this_roe\n",
    "\n",
    "roe"
   ]
  },
  {
   "cell_type": "code",
   "execution_count": null,
   "id": "e18fb653",
   "metadata": {},
   "outputs": [],
   "source": [
    "tickersymbols = ['AAPL','GOOG']\n",
    "tickerx = yf.Tickers(ticker_symbols)\n",
    "def stock_EPS_calculation(ticker, period='max'):\n",
    "    hist = ticker.history(period=period) # We don't use hist here, but we must call ticker.history at some point to access the metadata\n",
    "    symbol = ticker.history_metadata['symbol']\n",
    "    df = ticker.earnings"
   ]
  },
  {
   "cell_type": "code",
   "execution_count": null,
   "id": "0bee6abf",
   "metadata": {},
   "outputs": [],
   "source": [
    "stock_EPS_calculation(tickerx)"
   ]
  },
  {
   "cell_type": "code",
   "execution_count": null,
   "id": "27356070",
   "metadata": {},
   "outputs": [],
   "source": [
    "\n",
    "google = yf.Ticker('GOOG')\n",
    "df = google.earnings\n",
    "df2 = google.shares"
   ]
  },
  {
   "cell_type": "code",
   "execution_count": null,
   "id": "0db2d185",
   "metadata": {},
   "outputs": [],
   "source": []
  },
  {
   "cell_type": "code",
   "execution_count": null,
   "id": "9d3fdbf0",
   "metadata": {},
   "outputs": [],
   "source": [
    "df2"
   ]
  },
  {
   "cell_type": "code",
   "execution_count": null,
   "id": "a33225a3",
   "metadata": {},
   "outputs": [],
   "source": [
    "Earnings/df2.BasicShares"
   ]
  },
  {
   "cell_type": "code",
   "execution_count": null,
   "id": "02367ae9",
   "metadata": {},
   "outputs": [],
   "source": [
    "#Earnings per share \n",
    "Net_Income = MSFT.income_stmt.loc['Net Income']\n",
    "NI = pd.DataFrame(Net_Income)"
   ]
  },
  {
   "cell_type": "markdown",
   "id": "59e4e7d8",
   "metadata": {},
   "source": [
    "To find the dividend discount rate and other variables used in the Gordon Growth Model, you may gather the following information:\n",
    "\n",
    "    Dividend per share: This information is usually available in the company's financial statements, specifically the income statement. It represents the amount of dividend paid per share of stock.\n",
    "\n",
    "    Discount rate: The discount rate represents the rate at which an investor would be willing to invest in a stock, based on the risk and return expectations of the investment. This rate can be estimated based on various factors, such as the risk-free rate, the market risk premium, and the company's specific risk.\n",
    "\n",
    "    Dividend growth rate: The dividend growth rate represents the rate at which dividends are expected to grow in the future. This rate can be estimated based on the company's past dividend growth rate, its growth prospects, and the overall economic environment. It can also be estimated by analyzing the company's earnings and cash flows.\n",
    "\n",
    "    Future Stock Price: This is the estimated future value of the stock, which can be calculated using the Gordon Growth Model equation.\n",
    "\n",
    "The following is an example of how to calculate the dividend discount rate using the Gordon Growth Model:\n",
    "\n",
    "Assume a company's most recent dividend payment per share was $2.00, the discount rate was 8%, and the estimated dividend growth rate was 5%. Plugging these values into the equation, we get:\n",
    "\n",
    "Future Stock Price = $2.00 / (0.08 - 0.05) = $40.00\n",
    "\n",
    "To find the dividend discount rate, we can rearrange the equation as follows:\n",
    "\n",
    "Discount rate = Dividend per share / Future Stock Price + Dividend growth rate\n",
    "\n",
    "Plugging in the values from the example, we get:\n",
    "\n",
    "Discount rate = $2.00 / $40.00 + 0.05 = 0.08\n",
    "\n",
    "So, in this example, the dividend discount rate is 8%.\n",
    "\n",
    "It's important to keep in mind that these estimates are just that - estimates - and there is no guarantee that a company will achieve the estimated dividend discount rate. Additionally, actual dividend discount rates may differ significantly from estimated dividend discount rates, and it's important to approach any dividend discount rate estimates with caution."
   ]
  },
  {
   "attachments": {},
   "cell_type": "markdown",
   "id": "f91ee55a",
   "metadata": {},
   "source": [
    "# Custom Portfolio"
   ]
  },
  {
   "cell_type": "code",
   "execution_count": 1,
   "id": "32564b1c",
   "metadata": {},
   "outputs": [],
   "source": [
    "from portfolio import Portfolio\n",
    "\n",
    "my_tickers = [\"AAPL\", \"GOOG\", \"MFST\", \"SPY\"]\n",
    "\n",
    "p = Portfolio(ticker_list=my_tickers)"
   ]
  },
  {
   "cell_type": "code",
   "execution_count": 3,
   "id": "c154a95c",
   "metadata": {},
   "outputs": [
    {
     "data": {
      "text/html": [
       "<div>\n",
       "<style scoped>\n",
       "    .dataframe tbody tr th:only-of-type {\n",
       "        vertical-align: middle;\n",
       "    }\n",
       "\n",
       "    .dataframe tbody tr th {\n",
       "        vertical-align: top;\n",
       "    }\n",
       "\n",
       "    .dataframe thead th {\n",
       "        text-align: right;\n",
       "    }\n",
       "</style>\n",
       "<table border=\"1\" class=\"dataframe\">\n",
       "  <thead>\n",
       "    <tr style=\"text-align: right;\">\n",
       "      <th></th>\n",
       "      <th>date</th>\n",
       "      <th>open</th>\n",
       "      <th>high</th>\n",
       "      <th>low</th>\n",
       "      <th>close</th>\n",
       "      <th>volume</th>\n",
       "    </tr>\n",
       "  </thead>\n",
       "  <tbody>\n",
       "    <tr>\n",
       "      <th>0</th>\n",
       "      <td>2023-02-10 20:00:00</td>\n",
       "      <td>151.2000</td>\n",
       "      <td>151.2600</td>\n",
       "      <td>151.2000</td>\n",
       "      <td>None</td>\n",
       "      <td>10821</td>\n",
       "    </tr>\n",
       "    <tr>\n",
       "      <th>1</th>\n",
       "      <td>2023-02-10 19:55:00</td>\n",
       "      <td>151.1400</td>\n",
       "      <td>151.2000</td>\n",
       "      <td>151.1400</td>\n",
       "      <td>None</td>\n",
       "      <td>2397</td>\n",
       "    </tr>\n",
       "    <tr>\n",
       "      <th>2</th>\n",
       "      <td>2023-02-10 19:50:00</td>\n",
       "      <td>151.0700</td>\n",
       "      <td>151.0900</td>\n",
       "      <td>151.0700</td>\n",
       "      <td>None</td>\n",
       "      <td>1147</td>\n",
       "    </tr>\n",
       "    <tr>\n",
       "      <th>3</th>\n",
       "      <td>2023-02-10 19:45:00</td>\n",
       "      <td>151.0400</td>\n",
       "      <td>151.0500</td>\n",
       "      <td>151.0400</td>\n",
       "      <td>None</td>\n",
       "      <td>1558</td>\n",
       "    </tr>\n",
       "    <tr>\n",
       "      <th>4</th>\n",
       "      <td>2023-02-10 19:40:00</td>\n",
       "      <td>151.0100</td>\n",
       "      <td>151.0400</td>\n",
       "      <td>151.0100</td>\n",
       "      <td>None</td>\n",
       "      <td>631</td>\n",
       "    </tr>\n",
       "    <tr>\n",
       "      <th>...</th>\n",
       "      <td>...</td>\n",
       "      <td>...</td>\n",
       "      <td>...</td>\n",
       "      <td>...</td>\n",
       "      <td>...</td>\n",
       "      <td>...</td>\n",
       "    </tr>\n",
       "    <tr>\n",
       "      <th>95</th>\n",
       "      <td>2023-02-10 11:50:00</td>\n",
       "      <td>150.1100</td>\n",
       "      <td>150.1600</td>\n",
       "      <td>149.7800</td>\n",
       "      <td>None</td>\n",
       "      <td>517929</td>\n",
       "    </tr>\n",
       "    <tr>\n",
       "      <th>96</th>\n",
       "      <td>2023-02-10 11:45:00</td>\n",
       "      <td>150.2100</td>\n",
       "      <td>150.3000</td>\n",
       "      <td>150.0800</td>\n",
       "      <td>None</td>\n",
       "      <td>291976</td>\n",
       "    </tr>\n",
       "    <tr>\n",
       "      <th>97</th>\n",
       "      <td>2023-02-10 11:40:00</td>\n",
       "      <td>150.1100</td>\n",
       "      <td>150.2800</td>\n",
       "      <td>150.1000</td>\n",
       "      <td>None</td>\n",
       "      <td>351659</td>\n",
       "    </tr>\n",
       "    <tr>\n",
       "      <th>98</th>\n",
       "      <td>2023-02-10 11:35:00</td>\n",
       "      <td>150.3000</td>\n",
       "      <td>150.3499</td>\n",
       "      <td>150.0150</td>\n",
       "      <td>None</td>\n",
       "      <td>406347</td>\n",
       "    </tr>\n",
       "    <tr>\n",
       "      <th>99</th>\n",
       "      <td>2023-02-10 11:30:00</td>\n",
       "      <td>150.6850</td>\n",
       "      <td>150.6950</td>\n",
       "      <td>150.2657</td>\n",
       "      <td>None</td>\n",
       "      <td>421549</td>\n",
       "    </tr>\n",
       "  </tbody>\n",
       "</table>\n",
       "<p>100 rows × 6 columns</p>\n",
       "</div>"
      ],
      "text/plain": [
       "                   date      open      high       low close  volume\n",
       "0   2023-02-10 20:00:00  151.2000  151.2600  151.2000  None   10821\n",
       "1   2023-02-10 19:55:00  151.1400  151.2000  151.1400  None    2397\n",
       "2   2023-02-10 19:50:00  151.0700  151.0900  151.0700  None    1147\n",
       "3   2023-02-10 19:45:00  151.0400  151.0500  151.0400  None    1558\n",
       "4   2023-02-10 19:40:00  151.0100  151.0400  151.0100  None     631\n",
       "..                  ...       ...       ...       ...   ...     ...\n",
       "95  2023-02-10 11:50:00  150.1100  150.1600  149.7800  None  517929\n",
       "96  2023-02-10 11:45:00  150.2100  150.3000  150.0800  None  291976\n",
       "97  2023-02-10 11:40:00  150.1100  150.2800  150.1000  None  351659\n",
       "98  2023-02-10 11:35:00  150.3000  150.3499  150.0150  None  406347\n",
       "99  2023-02-10 11:30:00  150.6850  150.6950  150.2657  None  421549\n",
       "\n",
       "[100 rows x 6 columns]"
      ]
     },
     "execution_count": 3,
     "metadata": {},
     "output_type": "execute_result"
    }
   ],
   "source": [
    "p.tickers[\"AAPL\"]"
   ]
  },
  {
   "attachments": {},
   "cell_type": "markdown",
   "id": "1e141bea",
   "metadata": {},
   "source": [
    "Data Cleaning stuff (this is behind the scenes in portfolio)"
   ]
  },
  {
   "cell_type": "code",
   "execution_count": null,
   "id": "ce2a47b3",
   "metadata": {},
   "outputs": [],
   "source": [
    "import pandas as pd\n",
    "import requests\n",
    "from dotenv import load_dotenv\n",
    "import os\n",
    "\n",
    "load_dotenv()\n",
    "\n",
    "ticker_symbol = \"AAPL\"\n",
    "url = f'https://www.alphavantage.co/query?function=TIME_SERIES_INTRADAY&symbol={ticker_symbol}&interval=5min&apikey={os.environ.get(\"FINANCE_API_KEY\")}'\n",
    "r = requests.get(url)\n",
    "data = r.json()"
   ]
  },
  {
   "cell_type": "code",
   "execution_count": null,
   "id": "9f043a5b",
   "metadata": {},
   "outputs": [],
   "source": [
    "#This is ugly so we need to reformat the data\n",
    "pd.DataFrame(data.get(\"Time Series (5min)\"))"
   ]
  },
  {
   "cell_type": "code",
   "execution_count": null,
   "id": "a58693f4",
   "metadata": {},
   "outputs": [],
   "source": [
    "# This is a way to flatten the data\n",
    "flat_data = []\n",
    "for timestamp, price_data in data.get(\"Time Series (5min)\").items():\n",
    "    new_data = {\n",
    "        \"date\" : timestamp,\n",
    "        \"open\" : price_data.get(\"1. open\"),\n",
    "        \"high\" : price_data.get(\"2. high\"),\n",
    "        \"low\" : price_data.get(\"3. low\"),\n",
    "        \"close\" : price_data.get(\"4. low\"),\n",
    "        \"volume\" : price_data.get(\"5. volume\")\n",
    "    }\n",
    "    flat_data.append(new_data)\n",
    "pd.DataFrame(flat_data)"
   ]
  },
  {
   "cell_type": "code",
   "execution_count": null,
   "id": "1e9526c6",
   "metadata": {},
   "outputs": [],
   "source": []
  }
 ],
 "metadata": {
  "kernelspec": {
   "display_name": "base",
   "language": "python",
   "name": "python3"
  },
  "language_info": {
   "codemirror_mode": {
    "name": "ipython",
    "version": 3
   },
   "file_extension": ".py",
   "mimetype": "text/x-python",
   "name": "python",
   "nbconvert_exporter": "python",
   "pygments_lexer": "ipython3",
   "version": "3.8.13"
  },
  "vscode": {
   "interpreter": {
    "hash": "40d3a090f54c6569ab1632332b64b2c03c39dcf918b08424e98f38b5ae0af88f"
   }
  }
 },
 "nbformat": 4,
 "nbformat_minor": 5
}
