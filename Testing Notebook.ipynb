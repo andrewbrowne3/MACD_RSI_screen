{
 "cells": [
  {
   "cell_type": "code",
   "execution_count": null,
   "id": "56e698d0",
   "metadata": {},
   "outputs": [],
   "source": [
    "import yfinance as yf\n",
    "import pandas as pd \n",
    "import numpy as np\n",
    "import matplotlib.pyplot as plt \n",
    "from datetime import datetime as dt\n",
    "from datetime import timedelta as td"
   ]
  },
  {
   "attachments": {},
   "cell_type": "markdown",
   "id": "ad757f8f",
   "metadata": {},
   "source": [
    "## Testing the Apple Object"
   ]
  },
  {
   "attachments": {},
   "cell_type": "markdown",
   "id": "1d2c448c",
   "metadata": {},
   "source": [
    "Initialization"
   ]
  },
  {
   "cell_type": "code",
   "execution_count": null,
   "id": "d4d0fd97",
   "metadata": {},
   "outputs": [],
   "source": [
    "Apple = yf.Ticker(\"AAPL\") # Create the apple ticker object\n",
    "apple_history_df = Apple.history(period=\"max\") # Call the history function to get the API data loaded locally"
   ]
  },
  {
   "attachments": {},
   "cell_type": "markdown",
   "id": "188c2e84",
   "metadata": {},
   "source": [
    "Explore the Object / Data"
   ]
  },
  {
   "cell_type": "code",
   "execution_count": null,
   "id": "570ff238",
   "metadata": {},
   "outputs": [],
   "source": [
    "# Explore Historical Data (in the dataframe we saved earlier)\n",
    "df = apple_history_df # Alias the long name to just be df\n",
    "\n",
    "# X index (X conditions)\n",
    "condition_1 = df.Open <10\n",
    "condition_2 = df.Close>10\n",
    "# Y index (Y condition is just that the column name is one of these)\n",
    "desired_columns = [\"Open\", \"Close\"]\n",
    "df.loc[condition_1 & condition_2, desired_columns]"
   ]
  },
  {
   "cell_type": "code",
   "execution_count": null,
   "id": "0b94884c",
   "metadata": {},
   "outputs": [],
   "source": [
    "Apple.history_metadata.keys() #Look at what metadata is available"
   ]
  },
  {
   "cell_type": "code",
   "execution_count": null,
   "id": "6d6f301f",
   "metadata": {},
   "outputs": [],
   "source": [
    "# Explore the Balance Sheet (Annual; last 4 years)\n",
    "df = Apple.balance_sheet\n",
    "df.loc[[\"Current Assets\", \"Current Liabilities\"]]\n",
    "df.loc[\"Current Assets\"] / df.loc[\"Current Liabilities\"]"
   ]
  },
  {
   "cell_type": "code",
   "execution_count": null,
   "id": "f57bcce1",
   "metadata": {},
   "outputs": [],
   "source": [
    "# Balance sheet (last 4 quarters)\n",
    "Apple.quarterly_balance_sheet"
   ]
  },
  {
   "attachments": {},
   "cell_type": "markdown",
   "id": "69b60943",
   "metadata": {},
   "source": [
    "## Testing Multiple Tickers"
   ]
  },
  {
   "attachments": {},
   "cell_type": "markdown",
   "id": "3c7f5db0",
   "metadata": {},
   "source": [
    "Initialization"
   ]
  },
  {
   "cell_type": "code",
   "execution_count": null,
   "id": "b93fca29",
   "metadata": {},
   "outputs": [],
   "source": [
    "ticker_symbols = ['SPY','AAPL','KO', 'TSLA', 'GOOG']\n",
    "tickers = yf.Tickers(ticker_symbols)"
   ]
  },
  {
   "cell_type": "code",
   "execution_count": null,
   "id": "c8ffbeaa",
   "metadata": {},
   "outputs": [],
   "source": [
    "# Note that this creates a dictionary (tickers.tickers)\n",
    "print(\"tickers.tickers is a dict where the keys are strings and the values are objects like Apple was\")\n",
    "for ticker_symbol, ticker in tickers.tickers.items(): # dict.items() gives you key,value pairs\n",
    "    print(ticker_symbol, type(ticker_symbol))\n",
    "    print(type(ticker))\n",
    "    print()"
   ]
  },
  {
   "attachments": {},
   "cell_type": "markdown",
   "id": "ec509173",
   "metadata": {},
   "source": [
    "## Manipulating Multiple Tickers"
   ]
  },
  {
   "cell_type": "code",
   "execution_count": null,
   "id": "70374819",
   "metadata": {},
   "outputs": [],
   "source": [
    "ticker_symbols = ['SPY','AAPL','KO', 'TSLA', 'GOOG']\n",
    "tickers = yf.Tickers(ticker_symbols)\n",
    "\n",
    "# Example Function\n",
    "def get_current_ratio(ticker, period=\"max\"):\n",
    "    hist = ticker.history(period=period) # We don't use hist here, but we must call ticker.history at some point to access the metadata\n",
    "    symbol = ticker.history_metadata['symbol']\n",
    "    bs_df = ticker.quarterly_balance_sheet\n",
    "    try:\n",
    "        current_ratio = (bs_df.loc[\"Current Assets\"] / bs_df.loc[\"Current Liabilities\"])\n",
    "        print(f\"{symbol} - Found Current Ratio\")\n",
    "        return current_ratio\n",
    "    except:\n",
    "        print(f\"{symbol} - No Current Ratio\")\n",
    "        return None\n",
    "        \n",
    "# Output Dataframe that will house all of our data\n",
    "current_ratios = pd.DataFrame()\n",
    "\n",
    "for ticker_symbol, this_ticker in tickers.tickers.items():\n",
    "    this_current_ratio = get_current_ratio(this_ticker)\n",
    "    current_ratios[ticker_symbol] = this_current_ratio\n",
    "\n",
    "current_ratios"
   ]
  }
 ],
 "metadata": {
  "kernelspec": {
   "display_name": "base",
   "language": "python",
   "name": "python3"
  },
  "language_info": {
   "codemirror_mode": {
    "name": "ipython",
    "version": 3
   },
   "file_extension": ".py",
   "mimetype": "text/x-python",
   "name": "python",
   "nbconvert_exporter": "python",
   "pygments_lexer": "ipython3",
   "version": "3.8.13 (default, Mar 28 2022, 06:16:26) \n[Clang 12.0.0 ]"
  },
  "vscode": {
   "interpreter": {
    "hash": "40d3a090f54c6569ab1632332b64b2c03c39dcf918b08424e98f38b5ae0af88f"
   }
  }
 },
 "nbformat": 4,
 "nbformat_minor": 5
}
